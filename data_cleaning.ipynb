{
 "cells": [
  {
   "cell_type": "code",
   "execution_count": 1,
   "id": "c745ba68-1102-4f70-8d40-96a0149f27d5",
   "metadata": {},
   "outputs": [
    {
     "name": "stdout",
     "output_type": "stream",
     "text": [
      "Requirement already satisfied: countryinfo in /home/fedi/anaconda3/lib/python3.9/site-packages (0.1.2)\n"
     ]
    }
   ],
   "source": [
    "import sys\n",
    "!{sys.executable} -m pip install countryinfo"
   ]
  },
  {
   "cell_type": "code",
   "execution_count": 2,
   "id": "cd5fecea-1731-40c8-8fe3-9241699c5384",
   "metadata": {},
   "outputs": [],
   "source": [
    "import pandas as pd\n",
    "import numpy as np\n",
    "from countryinfo import CountryInfo"
   ]
  },
  {
   "cell_type": "code",
   "execution_count": 3,
   "id": "ec1ba493-33ac-48e0-ace7-153e103b122a",
   "metadata": {},
   "outputs": [],
   "source": [
    "df = pd.read_excel(\"aids.xlsx\", 0, header=None, index_col=0)\n",
    "df = df.fillna(method='ffill', axis=1) \n",
    "df.columns=pd.MultiIndex.from_arrays(df[:2].values) \n",
    "df.index.name = 'countries'\n",
    "df = df[2:]"
   ]
  },
  {
   "cell_type": "code",
   "execution_count": 4,
   "id": "31319b6e-634a-450f-8541-1af1dcb1ada8",
   "metadata": {},
   "outputs": [],
   "source": [
    "df.replace('-', np.NaN, inplace=True)\n",
    "df.dropna(axis = 0, how = 'all', inplace=True)\n",
    "df.replace('<', '', regex=True, inplace=True)\n",
    "df = df.astype(np.float64)"
   ]
  },
  {
   "cell_type": "code",
   "execution_count": 5,
   "id": "3e5ad25c-b541-4fda-99b0-2cdc45782088",
   "metadata": {},
   "outputs": [],
   "source": [
    "df.columns = df.columns.to_flat_index()\n",
    "df.columns = ['_'.join(col) for col in df.columns.values]\n",
    "\n",
    "to_drop = [\n",
    "    'HIV incidence per 1,000 uninfected population_Adolescents 10–19', \n",
    "    'AIDS-related mortality per 100,000 population_Adolescents 10–19', \n",
    "    'Number of children living with HIV_Adolescents 10–19'\n",
    "]\n",
    "\n",
    "df.drop(to_drop, axis=1, inplace=True) "
   ]
  },
  {
   "cell_type": "code",
   "execution_count": 6,
   "id": "0ccc9556-5109-4efa-b22a-f3ee1938fb45",
   "metadata": {},
   "outputs": [],
   "source": [
    "new_names = {\n",
    "    \"Côte d'Ivoire\": \"ivory coast\", \n",
    "    \"Iran (Islamic Republic of)\": \"Iran\", \n",
    "    \"Venezuela (Bolivarian Republic of)\": \"Venezuela\", \n",
    "    \"Bolivia (Plurinational State of)\": \"Bolivia\",\n",
    "    \"Viet Nam\": \"Vietnam\",\n",
    "    \"Eswatini\": \"swaziland\",\n",
    "    \"Congo\": \"republic of the congo\",\n",
    "    \"Gambia\": \"the gambia\"\n",
    "}\n",
    "\n",
    "df.rename(index=new_names, inplace=True)"
   ]
  },
  {
   "cell_type": "code",
   "execution_count": 7,
   "id": "b93f0884-d8b5-4315-95e2-86a73d98bd5a",
   "metadata": {},
   "outputs": [],
   "source": [
    "def get_regions_from_countries(countries):\n",
    "    regions, available_countries = {}, CountryInfo().all()\n",
    "    for country in countries:\n",
    "        sub_region = CountryInfo(country).info()[\"subregion\"]\n",
    "        regions[country] = sub_region\n",
    "    return regions"
   ]
  },
  {
   "cell_type": "code",
   "execution_count": 8,
   "id": "755f1e11-abfa-41bf-bfce-92a2b0258497",
   "metadata": {},
   "outputs": [],
   "source": [
    "regions_countriers = get_regions_from_countries(df.index)"
   ]
  },
  {
   "cell_type": "code",
   "execution_count": 9,
   "id": "577d5243-4237-46f6-ab80-590d2287f135",
   "metadata": {},
   "outputs": [],
   "source": [
    "def get_sub_df(df, start):\n",
    "    sub_df = df.iloc[:, start:start+3]\n",
    "    sub_df[\"regions\"] = pd.Series(regions_countriers)\n",
    "    sub_df.columns = [\"children_0-14\", \"girls_10–19\", \"boys_10–19\", \"regions\"]\n",
    "    return sub_df"
   ]
  },
  {
   "cell_type": "code",
   "execution_count": 10,
   "id": "ec221dff-641c-4276-ad9b-65b23fd496a1",
   "metadata": {},
   "outputs": [],
   "source": [
    "# hiv incidence per 1000 uninfected population\n",
    "hiv_incidence_df = get_sub_df(df, 0)\n",
    "hiv_incidence_df.to_csv(\"hiv_incidence.csv\", index_label=\"countries\")"
   ]
  },
  {
   "cell_type": "code",
   "execution_count": 11,
   "id": "7c02efd1-78d4-4309-89c3-8dcc80140a8f",
   "metadata": {},
   "outputs": [],
   "source": [
    "# AIDS-related mortality per 100,000 population\n",
    "aids_mortality_df = get_sub_df(df, 3)\n",
    "aids_mortality_df.to_csv(\"aids_mortality_df.csv\", index_label=\"countries\")"
   ]
  },
  {
   "cell_type": "code",
   "execution_count": 12,
   "id": "3aff4c95-a8aa-4f5b-94d3-e8ac0c08971d",
   "metadata": {},
   "outputs": [],
   "source": [
    "# Number of children living with HIV\n",
    "children_living_hiv_df = get_sub_df(df, 6)\n",
    "children_living_hiv_df.to_csv(\"children_living_hiv_df.csv\", index_label=\"countries\")"
   ]
  }
 ],
 "metadata": {
  "kernelspec": {
   "display_name": "Python 3 (ipykernel)",
   "language": "python",
   "name": "python3"
  },
  "language_info": {
   "codemirror_mode": {
    "name": "ipython",
    "version": 3
   },
   "file_extension": ".py",
   "mimetype": "text/x-python",
   "name": "python",
   "nbconvert_exporter": "python",
   "pygments_lexer": "ipython3",
   "version": "3.9.13"
  },
  "vscode": {
   "interpreter": {
    "hash": "97cc609b13305c559618ec78a438abc56230b9381f827f22d070313b9a1f3777"
   }
  }
 },
 "nbformat": 4,
 "nbformat_minor": 5
}
